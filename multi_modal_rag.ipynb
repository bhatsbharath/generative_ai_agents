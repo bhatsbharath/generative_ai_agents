{
  "nbformat": 4,
  "nbformat_minor": 0,
  "metadata": {
    "colab": {
      "provenance": [],
      "toc_visible": true,
      "include_colab_link": true
    },
    "kernelspec": {
      "name": "python3",
      "display_name": "Python 3"
    },
    "language_info": {
      "name": "python"
    }
  },
  "cells": [
    {
      "cell_type": "markdown",
      "metadata": {
        "id": "view-in-github",
        "colab_type": "text"
      },
      "source": [
        "<a href=\"https://colab.research.google.com/github/bhatsbharath/generative_ai_agents/blob/main/multi_modal_rag.ipynb\" target=\"_parent\"><img src=\"https://colab.research.google.com/assets/colab-badge.svg\" alt=\"Open In Colab\"/></a>"
      ]
    },
    {
      "cell_type": "markdown",
      "source": [
        "# Multi Modal RAG\n",
        "\n",
        "It extracts and processes text and images from PDFs, utilizing a multi-modal Retrieval-Augmented Generation (RAG) system for summarizing and retrieving content for question answering"
      ],
      "metadata": {
        "id": "sPMuRhWYd9ZV"
      }
    },
    {
      "cell_type": "code",
      "execution_count": null,
      "metadata": {
        "id": "Fq42qUSXyDF1"
      },
      "outputs": [],
      "source": [
        "import fitz  # PyMuPDF\n",
        "from PIL import Image\n",
        "import io\n",
        "import os\n",
        "from io import BytesIO\n",
        "\n",
        "from langchain_core.prompts import ChatPromptTemplate\n",
        "from langchain_core.documents import Document\n",
        "from langchain.text_splitter import RecursiveCharacterTextSplitter\n",
        "from langchain_community.vectorstores import Chroma\n",
        "text_data = []\n",
        "img_data = []"
      ]
    },
    {
      "cell_type": "markdown",
      "source": [
        "Opens a PDF file.\n",
        "\n",
        "Creates a directory named extracted_images to store output.\n",
        "\n",
        "Iterates through each page in the PDF to:\n",
        "\n",
        "Extract and store the page text in text_data.\n",
        "\n",
        "Find and extract all embedded images.\n",
        "\n",
        "Save each image using its original format and a unique filename based on page and image index."
      ],
      "metadata": {
        "id": "bbEK_Ch0dSuu"
      }
    },
    {
      "cell_type": "code",
      "source": [
        "with fitz.open('DETR.pdf') as pdf_file:\n",
        "    # Create a directory to store the images\n",
        "    if not os.path.exists(\"extracted_images\"):\n",
        "        os.makedirs(\"extracted_images\")\n",
        "\n",
        "    # Loop through every page in the PDF\n",
        "    for page_number in range(len(pdf_file)):\n",
        "        page = pdf_file[page_number]\n",
        "\n",
        "        # Get the text on page\n",
        "        text = page.get_text().strip()\n",
        "        text_data.append({\"response\": text, \"name\": page_number+1})\n",
        "        # Get the list of images on the page\n",
        "        images = page.get_images(full=True)\n",
        "\n",
        "        # Loop through all images found on the page\n",
        "        for image_index, img in enumerate(images, start=0):\n",
        "            xref = img[0]  # Get the XREF of the image\n",
        "            base_image = pdf_file.extract_image(xref)  # Extract the image\n",
        "            image_bytes = base_image[\"image\"]  # Get the image bytes\n",
        "            image_ext = base_image[\"ext\"]  # Get the image extension\n",
        "\n",
        "            # Load the image using PIL and save it\n",
        "            image = Image.open(io.BytesIO(image_bytes))\n",
        "            image.save(f\"extracted_images/image_{page_number+1}_{image_index+1}.{image_ext}\")"
      ],
      "metadata": {
        "id": "iYr5HzqAyKO2"
      },
      "execution_count": null,
      "outputs": []
    },
    {
      "cell_type": "code",
      "source": [
        "from langchain_community.chat_models import ChatOllama\n",
        "from langchain_community.llms import Ollama\n",
        "\n",
        "#model = Ollama(model=\"llama3.2-vision\")\n",
        "model = ChatOllama(model=\"llava\", temperature=0.2)  # Use a vision-supported model name like \"llava\""
      ],
      "metadata": {
        "id": "MqQj9oKbyLo-"
      },
      "execution_count": null,
      "outputs": []
    },
    {
      "cell_type": "code",
      "source": [
        "def pil_to_base64(image):\n",
        "    buffered = BytesIO()\n",
        "    image.save(buffered, format=\"PNG\")\n",
        "    return base64.b64encode(buffered.getvalue()).decode()"
      ],
      "metadata": {
        "id": "mcRJsVbYyMjW"
      },
      "execution_count": null,
      "outputs": []
    },
    {
      "cell_type": "markdown",
      "source": [
        "Iterates through all images in the extracted_images directory.\n",
        "\n",
        "Converts each image to a base64-encoded string.\n",
        "\n",
        "Constructs a HumanMessage containing both the image and a summarization prompt.\n",
        "\n",
        "Sends the message to the model for processing.\n",
        "\n",
        "Stores the model's summarized response for each image in the img_data list, along with the image name."
      ],
      "metadata": {
        "id": "45qutGw8dcpu"
      }
    },
    {
      "cell_type": "code",
      "source": [
        "import base64\n",
        "from langchain_core.messages import HumanMessage\n",
        "\n",
        "for img in os.listdir(\"extracted_images\"):\n",
        "    image = Image.open(f\"extracted_images/{img}\")\n",
        "    image_base64 = pil_to_base64(image)\n",
        "\n",
        "    # Prepare the message in LangChain's HumanMessage format with image + text\n",
        "    msg = HumanMessage(\n",
        "        content=[\n",
        "            {\"type\": \"image_url\", \"image_url\": {\"url\": f\"data:image/png;base64,{image_base64}\"}},\n",
        "            {\n",
        "                \"type\": \"text\",\n",
        "                \"text\": \"You are an assistant tasked with summarizing tables, images and text for retrieval. \"\n",
        "                        \"These summaries will be embedded and used to retrieve the raw text or table elements. \"\n",
        "                        \"Give a concise summary of the table or text that is well optimized for retrieval. \"\n",
        "                        \"Table or text or image:\"\n",
        "            }\n",
        "        ]\n",
        "    )\n",
        "\n",
        "    response = model.invoke([msg])\n",
        "    img_data.append({\"response\": response.content, \"name\": img})"
      ],
      "metadata": {
        "id": "geSxp6i8yN0-"
      },
      "execution_count": null,
      "outputs": []
    },
    {
      "cell_type": "markdown",
      "source": [
        "Initializes an embedding model (nomic-embed-text) using OllamaEmbeddings.\n",
        "\n",
        "Converts previously extracted text (text_data) and image summaries (img_data) into Document objects with associated metadata.\n",
        "\n",
        "Uses a RecursiveCharacterTextSplitter to divide the documents into manageable chunks (400 tokens with 50-token overlap) for better embedding and retrieval performance.\n",
        "\n",
        "Splits both text and image-based documents into chunks: doc_splits and img_splits."
      ],
      "metadata": {
        "id": "H0pfrTP4djX-"
      }
    },
    {
      "cell_type": "code",
      "source": [
        "from langchain_community.embeddings import OllamaEmbeddings\n",
        "\n",
        "embedding_model  = OllamaEmbeddings(model=\"nomic-embed-text\")\n",
        "\n",
        "# Load the document\n",
        "docs_list = [Document(page_content=text['response'], metadata={\"name\": text['name']}) for text in text_data]\n",
        "img_list = [Document(page_content=img['response'], metadata={\"name\": img['name']}) for img in img_data]\n",
        "\n",
        "# Split\n",
        "text_splitter = RecursiveCharacterTextSplitter.from_tiktoken_encoder(\n",
        "    chunk_size=400, chunk_overlap=50\n",
        ")\n",
        "\n",
        "doc_splits = text_splitter.split_documents(docs_list)\n",
        "img_splits = text_splitter.split_documents(img_list)"
      ],
      "metadata": {
        "id": "5qvZDQXwyPQP"
      },
      "execution_count": null,
      "outputs": []
    },
    {
      "cell_type": "code",
      "source": [
        "# Add to vectorstore\n",
        "vectorstore = Chroma.from_documents(\n",
        "    documents=doc_splits + img_splits, # adding the both text and image splits\n",
        "    collection_name=\"multi_model_rag\",\n",
        "    embedding=embedding_model,\n",
        ")\n",
        "\n",
        "retriever = vectorstore.as_retriever(\n",
        "                search_type=\"similarity\",\n",
        "                search_kwargs={'k': 1}, # number of documents to retrieve\n",
        "            )"
      ],
      "metadata": {
        "id": "UQ86Py0jyQp-"
      },
      "execution_count": null,
      "outputs": []
    },
    {
      "cell_type": "code",
      "source": [
        "query = \"Does image contain giraffe?\""
      ],
      "metadata": {
        "id": "hI6XgJmDyR0m"
      },
      "execution_count": null,
      "outputs": []
    },
    {
      "cell_type": "code",
      "source": [
        "docs = retriever.invoke(query)\n"
      ],
      "metadata": {
        "id": "JdtgcUV3yTUm"
      },
      "execution_count": null,
      "outputs": []
    },
    {
      "cell_type": "markdown",
      "source": [
        "Sets up a prompt and language model for concise question answering.\n",
        "\n",
        "Builds a chain combining prompt, LLM, and output parser.\n",
        "\n",
        "Runs the chain with retrieved documents and user query to generate an answer."
      ],
      "metadata": {
        "id": "3epTW47ZdpSO"
      }
    },
    {
      "cell_type": "code",
      "source": [
        "from langchain_core.output_parsers import StrOutputParser\n",
        "\n",
        "# Prompt\n",
        "system = \"\"\"You are an assistant for question-answering tasks. Answer the question based upon your knowledge.\n",
        "Use three-to-five sentences maximum and keep the answer concise.\"\"\"\n",
        "prompt = ChatPromptTemplate.from_messages(\n",
        "    [\n",
        "        (\"system\", system),\n",
        "        (\"human\", \"Retrieved documents: \\n\\n <docs>{documents}</docs> \\n\\n User question: <question>{question}</question>\"),\n",
        "    ]\n",
        ")\n",
        "\n",
        "# LLM\n",
        "llm = ChatOllama(model=\"llama3.2\")\n",
        "\n",
        "# Chain\n",
        "rag_chain = prompt | llm | StrOutputParser()\n",
        "\n",
        "# Run\n",
        "generation = rag_chain.invoke({\"documents\":docs[0].page_content, \"question\": query})\n",
        "print(generation)"
      ],
      "metadata": {
        "id": "6jkEummxyUnG"
      },
      "execution_count": null,
      "outputs": []
    }
  ]
}