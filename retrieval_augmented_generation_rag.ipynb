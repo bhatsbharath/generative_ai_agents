{
  "nbformat": 4,
  "nbformat_minor": 0,
  "metadata": {
    "colab": {
      "provenance": [],
      "authorship_tag": "ABX9TyOLDRsv8RYBf2rNvuniv4Nw",
      "include_colab_link": true
    },
    "kernelspec": {
      "name": "python3",
      "display_name": "Python 3"
    },
    "language_info": {
      "name": "python"
    }
  },
  "cells": [
    {
      "cell_type": "markdown",
      "metadata": {
        "id": "view-in-github",
        "colab_type": "text"
      },
      "source": [
        "<a href=\"https://colab.research.google.com/github/bhatsbharath/generative_ai_agents/blob/main/retrieval_augmented_generation_rag.ipynb\" target=\"_parent\"><img src=\"https://colab.research.google.com/assets/colab-badge.svg\" alt=\"Open In Colab\"/></a>"
      ]
    },
    {
      "cell_type": "code",
      "execution_count": null,
      "metadata": {
        "id": "NDN5kqhp25ry"
      },
      "outputs": [],
      "source": [
        "from langchain.chains import RetrievalQA\n",
        "from langchain.agents import Tool, initialize_agent\n",
        "from langchain.text_splitter import CharacterTextSplitter\n",
        "from langchain_community.document_loaders import PyPDFLoader\n",
        "from langchain_community.embeddings import OllamaEmbeddings\n",
        "from langchain_community.vectorstores import Chroma\n",
        "from langchain_community.llms import Ollama\n",
        "\n",
        "import os"
      ]
    },
    {
      "cell_type": "code",
      "source": [
        "# 1. Load documents\n",
        "loader = PyPDFLoader(\"DETR.pdf\")\n",
        "docs = loader.load()\n",
        "\n",
        "# 2. Split into chunks\n",
        "text_splitter = CharacterTextSplitter(chunk_size=500, chunk_overlap=50)\n",
        "documents = text_splitter.split_documents(docs)\n",
        "\n",
        "# 3. Create embeddings + vectorstore\n",
        "embedding = OllamaEmbeddings(model=\"nomic-embed-text\")\n",
        "\n",
        "#Below line will store it in memory of chroma\n",
        "# vectordb = Chroma.from_documents(documents, embedding)\n",
        "\n",
        "persist_directory = \"chroma_db\"  # Folder to save vector DB locally\n",
        "\n",
        "# Create vectorstore and save to disk\n",
        "vectordb = Chroma.from_documents(\n",
        "    documents,\n",
        "    embedding,\n",
        "    persist_directory=persist_directory\n",
        ")\n",
        "vectordb.persist()  # Save the index locally"
      ],
      "metadata": {
        "id": "5fZ9MplG2-p-"
      },
      "execution_count": null,
      "outputs": []
    },
    {
      "cell_type": "code",
      "source": [
        "# 4. Create retriever\n",
        "retriever = vectordb.as_retriever(search_type=\"similarity\", k=3)\n",
        "\n",
        "# 5. Define RAG chain as a Tool\n",
        "llm = Ollama(model=\"llama3\")\n",
        "rag_chain = RetrievalQA.from_chain_type(\n",
        "    llm=llm,\n",
        "    retriever=retriever,\n",
        "    chain_type=\"stuff\"\n",
        ")"
      ],
      "metadata": {
        "id": "SPjNyqd93Bdl"
      },
      "execution_count": null,
      "outputs": []
    },
    {
      "cell_type": "code",
      "source": [
        "# 7. Wrap RAG as a Tool\n",
        "rag_tool = Tool(\n",
        "    name=\"LocalKnowledgeBase\",\n",
        "    func=rag_chain.run,\n",
        "    description=\"Use this to answer questions about the provided documents.\"\n",
        ")"
      ],
      "metadata": {
        "id": "_eiGHwG_3CsF"
      },
      "execution_count": null,
      "outputs": []
    },
    {
      "cell_type": "code",
      "source": [
        "# 8. Initialize agent with tools\n",
        "agent = initialize_agent(\n",
        "    tools=[rag_tool],\n",
        "    llm=llm,\n",
        "    agent=\"zero-shot-react-description\",\n",
        "    verbose=True\n",
        ")"
      ],
      "metadata": {
        "id": "9LYsRd0w3DxW"
      },
      "execution_count": null,
      "outputs": []
    },
    {
      "cell_type": "code",
      "source": [
        "# 9. Ask a question\n",
        "query = \"What does the document say about object detection?\"\n",
        "response = agent.run(query)\n",
        "print(response)"
      ],
      "metadata": {
        "id": "x_-yE4ch3FEl"
      },
      "execution_count": null,
      "outputs": []
    },
    {
      "cell_type": "code",
      "source": [
        "query = \"Does the document talk about indian politics?\"\n",
        "response = agent.run(query)\n",
        "print(response)"
      ],
      "metadata": {
        "id": "oFmcLlTt3Gr3"
      },
      "execution_count": null,
      "outputs": []
    }
  ]
}