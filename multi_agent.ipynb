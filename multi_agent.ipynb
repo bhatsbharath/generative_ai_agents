{
  "nbformat": 4,
  "nbformat_minor": 0,
  "metadata": {
    "colab": {
      "provenance": [],
      "toc_visible": true,
      "authorship_tag": "ABX9TyN4fHIJ45qI6ywnz2fKdtNk",
      "include_colab_link": true
    },
    "kernelspec": {
      "name": "python3",
      "display_name": "Python 3"
    },
    "language_info": {
      "name": "python"
    }
  },
  "cells": [
    {
      "cell_type": "markdown",
      "metadata": {
        "id": "view-in-github",
        "colab_type": "text"
      },
      "source": [
        "<a href=\"https://colab.research.google.com/github/bhatsbharath/generative_ai_agents/blob/main/multi_agent.ipynb\" target=\"_parent\"><img src=\"https://colab.research.google.com/assets/colab-badge.svg\" alt=\"Open In Colab\"/></a>"
      ]
    },
    {
      "cell_type": "markdown",
      "source": [
        "# Web searching\n",
        "Tool used to fetch data from the web"
      ],
      "metadata": {
        "id": "UJgAi8DB5exH"
      }
    },
    {
      "cell_type": "code",
      "source": [
        "from langchain_community.tools import DuckDuckGoSearchRun\n",
        "\n",
        "# Initialize the tool with custom settings\n",
        "tool = DuckDuckGoSearchRun(\n",
        "    description=\"A custom DuckDuckGo search tool for finding programming resources.\",\n",
        "    verbose=True\n",
        ")\n",
        "\n",
        "# Example usage\n",
        "result = tool.invoke(\"LangChain framework\")\n",
        "\n",
        "word_count = len(result.split())\n",
        "print(\"\\nNumber of words:\", word_count)\n",
        "print(result)"
      ],
      "metadata": {
        "id": "v1xTimyR5Gal"
      },
      "execution_count": null,
      "outputs": []
    },
    {
      "cell_type": "markdown",
      "source": [],
      "metadata": {
        "id": "PA6IKcEX5UsX"
      }
    },
    {
      "cell_type": "markdown",
      "source": [
        "# Multi Agent Researcher tool\n",
        "\n",
        "Multi Agent Researcher tool using a researcher and superviser agent"
      ],
      "metadata": {
        "id": "lL3LHmNk5Olv"
      }
    },
    {
      "cell_type": "markdown",
      "source": [],
      "metadata": {
        "id": "W-7fAJni5Ke5"
      }
    },
    {
      "cell_type": "code",
      "execution_count": null,
      "metadata": {
        "id": "5S_8Cn-x4Rht"
      },
      "outputs": [],
      "source": [
        "import re\n",
        "from langchain_community.tools import DuckDuckGoSearchRun\n",
        "from langchain_ollama import ChatOllama\n",
        "from langgraph.prebuilt import create_react_agent\n",
        "from langgraph_supervisor import create_supervisor\n",
        "\n",
        "\n",
        "def clean_text(text: str):\n",
        "    cleaned_text = re.sub(r\"<think>.*?</think>\", \"\", text, flags=re.DOTALL)\n",
        "    return cleaned_text.strip()\n",
        "\n",
        "model = ChatOllama(model=\"llama3.2\")"
      ]
    },
    {
      "cell_type": "code",
      "source": [
        "def clean_text(text: str):\n",
        "    cleaned_text = re.sub(r\"<think>.*?</think>\", \"\", text, flags=re.DOTALL)\n",
        "    return cleaned_text.strip()\n",
        "\n",
        "model = ChatOllama(model=\"llama3.2\")\n",
        "\n",
        "query_refiner_prompt = (\n",
        "    \"You are a query refiner agent.\\n\\n\"\n",
        "    \"INSTRUCTIONS:\\n\"\n",
        "    \"- Refine the user's query to make it more specific and actionable\\n\"\n",
        "    \"- Respond ONLY with the refined query, do NOT include any other text.\"\n",
        ")\n",
        "research_prompt = (\n",
        "    \"You are a research agent.\\n\\n\"\n",
        "    \"INSTRUCTIONS:\\n\"\n",
        "    \"- Assist ONLY with research-related tasks, DO NOT do anything else\\n\"\n",
        "    \"- After you're done with your research, respond to the supervisor directly\\n\"\n",
        "    \"- Respond ONLY with the summary of the results, do NOT include ANY other text.\"\n",
        ")\n",
        "supervisor_prompt = (\n",
        "    \"You are a supervisor agent.\\n\\n\"\n",
        "    \"INSTRUCTIONS:\\n\"\n",
        "    \"- Manage the workflow between the query refiner and researcher agents\\n\"\n",
        "    \"- Use the Query Refiner Agent to correct typos and enhance the query for better search relevance\\n\"\n",
        "    \"- Use the Research Agent to retrieve up-to-date information from the web\\n\"\n",
        "    \"- Respond ONLY with the final response, do NOT include any other text.\"\n",
        ")\n"
      ],
      "metadata": {
        "id": "TzPST8rD4TGw"
      },
      "execution_count": null,
      "outputs": []
    },
    {
      "cell_type": "code",
      "source": [
        "query_refiner_agent = create_react_agent(\n",
        "    model=model,\n",
        "    tools=[],\n",
        "    prompt=query_refiner_prompt,\n",
        "    name=\"query_refiner_agent\"\n",
        ")\n",
        "research_agent = create_react_agent(\n",
        "    model=model,\n",
        "    tools=[DuckDuckGoSearchRun()],\n",
        "    prompt=research_prompt,\n",
        "    name=\"research_agent\"\n",
        ")\n",
        "supervisor_agent = create_supervisor(\n",
        "    model=model,\n",
        "    agents=[query_refiner_agent, research_agent],\n",
        "    prompt=supervisor_prompt\n",
        ")"
      ],
      "metadata": {
        "id": "ruOZxkQZ4UEH"
      },
      "execution_count": null,
      "outputs": []
    },
    {
      "cell_type": "code",
      "source": [
        "app = supervisor_agent.compile()\n",
        "import streamlit as st\n",
        "\n",
        "query = st.text_input(\"What is neuromorphic computing\")\n",
        "\n",
        "result = app.invoke({\n",
        "    \"messages\": [\n",
        "        {\n",
        "            \"role\": \"user\",\n",
        "            \"content\": \"What is neuromorphic computing\"\n",
        "        }\n",
        "    ]\n",
        "})\n",
        "\n",
        "for message in result[\"messages\"]:\n",
        "    print(message.pretty_print())\n",
        "    print()\n"
      ],
      "metadata": {
        "id": "sg9wItin4V6n"
      },
      "execution_count": null,
      "outputs": []
    },
    {
      "cell_type": "code",
      "source": [
        "from IPython.display import Image, display\n",
        "\n",
        "display(Image(app.get_graph().draw_mermaid_png()))"
      ],
      "metadata": {
        "id": "MNPcn9sI4apm"
      },
      "execution_count": null,
      "outputs": []
    }
  ]
}